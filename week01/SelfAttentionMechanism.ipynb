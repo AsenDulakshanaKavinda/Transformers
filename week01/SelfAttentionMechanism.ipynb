{
 "cells": [
  {
   "cell_type": "code",
   "execution_count": 19,
   "id": "66a2fb36",
   "metadata": {},
   "outputs": [],
   "source": [
    "import numpy as np\n",
    "import matplotlib.pyplot as plt\n",
    "import seaborn as sns"
   ]
  },
  {
   "cell_type": "code",
   "execution_count": 3,
   "id": "8241be3f",
   "metadata": {},
   "outputs": [],
   "source": [
    "# create toy input : 3 tokens, each with 4 features\n",
    "np.random.seed(42)\n",
    "x = np.random.rand(3, 4) # (seq_len=3, d_model=4)"
   ]
  },
  {
   "cell_type": "code",
   "execution_count": 4,
   "id": "08d96a95",
   "metadata": {},
   "outputs": [],
   "source": [
    "# initialize random weight metrices for Q, K, V\n",
    "Wq = np.random.rand(4, 4)\n",
    "Wk = np.random.rand(4, 4)\n",
    "Wv = np.random.rand(4, 4)"
   ]
  },
  {
   "cell_type": "code",
   "execution_count": 5,
   "id": "ceab3235",
   "metadata": {},
   "outputs": [],
   "source": [
    "# compute Q, k, V\n",
    "Q = x @ Wq\n",
    "K = x @ Wk\n",
    "V = x @ Wv"
   ]
  },
  {
   "cell_type": "code",
   "execution_count": 29,
   "id": "a195c836",
   "metadata": {},
   "outputs": [
    {
     "data": {
      "text/plain": [
       "((3, 4), (3, 4), (3, 4))"
      ]
     },
     "execution_count": 29,
     "metadata": {},
     "output_type": "execute_result"
    }
   ],
   "source": [
    "Q.shape, K.shape, V.shape"
   ]
  },
  {
   "cell_type": "code",
   "execution_count": 8,
   "id": "85f734ad",
   "metadata": {},
   "outputs": [],
   "source": [
    "# coupute dot-product attention scores  (scaled)\n",
    "dk = Q.shape[-1]\n",
    "scores = Q @ K.T / np.sqrt(dk)"
   ]
  },
  {
   "cell_type": "code",
   "execution_count": 34,
   "id": "575d48e7",
   "metadata": {},
   "outputs": [
    {
     "name": "stdout",
     "output_type": "stream",
     "text": [
      "4\n"
     ]
    }
   ],
   "source": [
    "print(dk)"
   ]
  },
  {
   "cell_type": "code",
   "execution_count": 27,
   "id": "a378066d",
   "metadata": {},
   "outputs": [
    {
     "data": {
      "text/plain": [
       "(3, 3)"
      ]
     },
     "execution_count": 27,
     "metadata": {},
     "output_type": "execute_result"
    }
   ],
   "source": [
    "scores.shape"
   ]
  },
  {
   "cell_type": "code",
   "execution_count": 10,
   "id": "f5425674",
   "metadata": {},
   "outputs": [],
   "source": [
    "# Apply softmax to scores\n",
    "def softmax(x):\n",
    "    e_x = np.exp(x - np.max(x, axis=-1, keepdims=True))  # for numerical stability\n",
    "    return e_x / e_x.sum(axis=-1, keepdims=True)"
   ]
  },
  {
   "cell_type": "code",
   "execution_count": 30,
   "id": "c6b5ee33",
   "metadata": {},
   "outputs": [],
   "source": [
    "attention_weights = softmax(scores)"
   ]
  },
  {
   "cell_type": "code",
   "execution_count": 31,
   "id": "d7275fe0",
   "metadata": {},
   "outputs": [
    {
     "data": {
      "text/plain": [
       "(3, 3)"
      ]
     },
     "execution_count": 31,
     "metadata": {},
     "output_type": "execute_result"
    }
   ],
   "source": [
    "attention_weights.shape"
   ]
  },
  {
   "cell_type": "code",
   "execution_count": 12,
   "id": "e9a38e9b",
   "metadata": {},
   "outputs": [],
   "source": [
    "output = attention_weights @ V"
   ]
  },
  {
   "cell_type": "code",
   "execution_count": 32,
   "id": "09ad0ffa",
   "metadata": {},
   "outputs": [
    {
     "data": {
      "text/plain": [
       "(3, 4)"
      ]
     },
     "execution_count": 32,
     "metadata": {},
     "output_type": "execute_result"
    }
   ],
   "source": [
    "output.shape"
   ]
  },
  {
   "cell_type": "code",
   "execution_count": 14,
   "id": "b9d91379",
   "metadata": {},
   "outputs": [
    {
     "name": "stdout",
     "output_type": "stream",
     "text": [
      "Input (x):\n",
      " [[0.37454012 0.95071431 0.73199394 0.59865848]\n",
      " [0.15601864 0.15599452 0.05808361 0.86617615]\n",
      " [0.60111501 0.70807258 0.02058449 0.96990985]]\n",
      "\n",
      "Query (Q):\n",
      " [[1.3219334  1.15058387 0.81214157 0.92159352]\n",
      " [0.60791226 0.80319098 0.28567062 0.5407419 ]\n",
      " [1.17076081 1.26362718 0.61482536 0.82276099]]\n",
      "\n",
      "Key (K):\n",
      " [[0.57976316 1.28745385 1.66703152 1.69898438]\n",
      " [0.22597508 0.58985165 0.31495087 0.96590779]\n",
      " [0.52680695 1.18208936 1.09638025 1.56592774]]\n",
      "\n",
      "Value (V):\n",
      " [[1.35737309 1.19621995 1.50328114 1.80128432]\n",
      " [0.2568779  0.35393259 0.27378562 0.53739594]\n",
      " [0.64783595 0.73764774 0.93008436 1.1959884 ]]\n"
     ]
    }
   ],
   "source": [
    "# Print everything\n",
    "print(\"Input (x):\\n\", x)\n",
    "print(\"\\nQuery (Q):\\n\", Q)\n",
    "print(\"\\nKey (K):\\n\", K)\n",
    "print(\"\\nValue (V):\\n\", V)\n"
   ]
  },
  {
   "cell_type": "code",
   "execution_count": 15,
   "id": "088538e9",
   "metadata": {},
   "outputs": [
    {
     "name": "stdout",
     "output_type": "stream",
     "text": [
      "\n",
      "Attention Scores:\n",
      " [[2.58368526 1.06167843 2.19503074]\n",
      " [1.39072521 0.61170778 1.21483114]\n",
      " [2.3642085  0.99913319 2.03647591]]\n",
      "\n",
      "Attention Weights (Softmax):\n",
      " [[0.52735889 0.11510842 0.35753269]\n",
      " [0.43524369 0.19971446 0.36504185]\n",
      " [0.5060941  0.12923692 0.36466898]]\n",
      "\n",
      "Output (Attention * V):\n",
      " [[0.9770141  0.93531103 1.15681926 1.43938704]\n",
      " [0.87857753 0.86060494 1.04849229 1.32790919]\n",
      " [0.9564023  0.92013827 1.13535784 1.41721063]]\n"
     ]
    }
   ],
   "source": [
    "print(\"\\nAttention Scores:\\n\", scores)\n",
    "print(\"\\nAttention Weights (Softmax):\\n\", attention_weights)\n",
    "print(\"\\nOutput (Attention * V):\\n\", output)"
   ]
  },
  {
   "cell_type": "code",
   "execution_count": 33,
   "id": "18159ab3",
   "metadata": {},
   "outputs": [
    {
     "name": "stdout",
     "output_type": "stream",
     "text": [
      "[1.35737309 1.19621995 1.50328114 1.80128432]\n"
     ]
    }
   ],
   "source": [
    "print(V[0])"
   ]
  },
  {
   "cell_type": "code",
   "execution_count": 26,
   "id": "a7180137",
   "metadata": {},
   "outputs": [
    {
     "data": {
      "image/png": "[encoded data removed]",
      "text/plain": [
       "<Figure size 600x400 with 2 Axes>"
      ]
     },
     "metadata": {},
     "output_type": "display_data"
    }
   ],
   "source": [
    "token_labels = ['Token 0', 'Token 1', 'Token 2']\n",
    "plt.figure(figsize=(6,4))\n",
    "sns.heatmap(attention_weights, annot=True, xticklabels=token_labels, yticklabels=token_labels)\n",
    "plt.xlabel(\"Attending to\")\n",
    "plt.ylabel(\"Current Token\")\n",
    "plt.title(\"Self-Attention Weights Heatmap\")\n",
    "plt.show()"
   ]
  },
  {
   "cell_type": "code",
   "execution_count": null,
   "id": "76526e51",
   "metadata": {},
   "outputs": [],
   "source": []
  },
  {
   "cell_type": "code",
   "execution_count": null,
   "id": "1a043065",
   "metadata": {},
   "outputs": [],
   "source": []
  },
  {
   "cell_type": "code",
   "execution_count": null,
   "id": "dd3b6452",
   "metadata": {},
   "outputs": [],
   "source": []
  },
  {
   "cell_type": "code",
   "execution_count": null,
   "id": "c61ff896",
   "metadata": {},
   "outputs": [],
   "source": []
  },
  {
   "cell_type": "code",
   "execution_count": null,
   "id": "83cb2057",
   "metadata": {},
   "outputs": [],
   "source": []
  }
 ],
 "metadata": {
  "kernelspec": {
   "display_name": ".venv",
   "language": "python",
   "name": "python3"
  },
  "language_info": {
   "codemirror_mode": {
    "name": "ipython",
    "version": 3
   },
   "file_extension": ".py",
   "mimetype": "text/x-python",
   "name": "python",
   "nbconvert_exporter": "python",
   "pygments_lexer": "ipython3",
   "version": "3.13.2"
  }
 },
 "nbformat": 4,
 "nbformat_minor": 5
}
